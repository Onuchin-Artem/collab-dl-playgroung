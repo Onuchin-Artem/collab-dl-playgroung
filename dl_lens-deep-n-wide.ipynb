{
  "nbformat": 4,
  "nbformat_minor": 0,
  "metadata": {
    "colab": {
      "name": "dl-lens.ipynb",
      "provenance": [],
      "collapsed_sections": [],
      "authorship_tag": "ABX9TyNAb42P1BVlrAPu5VNE4hD4",
      "include_colab_link": true
    },
    "kernelspec": {
      "name": "python3",
      "display_name": "Python 3"
    },
    "accelerator": "GPU"
  },
  "cells": [
    {
      "cell_type": "markdown",
      "metadata": {
        "id": "view-in-github",
        "colab_type": "text"
      },
      "source": [
        "<a href=\"https://colab.research.google.com/github/Onuchin-Artem/collab-dl-playgroung/blob/main/dl_lens-deep-n-wide.ipynb\" target=\"_parent\"><img src=\"https://colab.research.google.com/assets/colab-badge.svg\" alt=\"Open In Colab\"/></a>"
      ]
    },
    {
      "cell_type": "code",
      "metadata": {
        "colab": {
          "base_uri": "https://localhost:8080/"
        },
        "id": "k_SYSXAlK05w",
        "outputId": "638251fe-db4a-4074-f2db-542a7d0508d7"
      },
      "source": [
        "!python --version\n",
        "!pip install plydata\n",
        "!pip install plotnine"
      ],
      "execution_count": 174,
      "outputs": [
        {
          "output_type": "stream",
          "text": [
            "Python 3.6.9\n",
            "Requirement already satisfied: plydata in /usr/local/lib/python3.6/dist-packages (0.4.2)\n",
            "Requirement already satisfied: pandas<1.1.0 in /usr/local/lib/python3.6/dist-packages (from plydata) (1.0.5)\n",
            "Requirement already satisfied: numpy>=1.13.3 in /usr/local/lib/python3.6/dist-packages (from pandas<1.1.0->plydata) (1.18.5)\n",
            "Requirement already satisfied: python-dateutil>=2.6.1 in /usr/local/lib/python3.6/dist-packages (from pandas<1.1.0->plydata) (2.8.1)\n",
            "Requirement already satisfied: pytz>=2017.2 in /usr/local/lib/python3.6/dist-packages (from pandas<1.1.0->plydata) (2018.9)\n",
            "Requirement already satisfied: six>=1.5 in /usr/local/lib/python3.6/dist-packages (from python-dateutil>=2.6.1->pandas<1.1.0->plydata) (1.15.0)\n",
            "Requirement already satisfied: plotnine in /usr/local/lib/python3.6/dist-packages (0.6.0)\n",
            "Requirement already satisfied: descartes>=1.1.0 in /usr/local/lib/python3.6/dist-packages (from plotnine) (1.1.0)\n",
            "Requirement already satisfied: matplotlib>=3.1.1 in /usr/local/lib/python3.6/dist-packages (from plotnine) (3.2.2)\n",
            "Requirement already satisfied: mizani>=0.6.0 in /usr/local/lib/python3.6/dist-packages (from plotnine) (0.6.0)\n",
            "Requirement already satisfied: patsy>=0.4.1 in /usr/local/lib/python3.6/dist-packages (from plotnine) (0.5.1)\n",
            "Requirement already satisfied: pandas>=0.25.0 in /usr/local/lib/python3.6/dist-packages (from plotnine) (1.0.5)\n",
            "Requirement already satisfied: statsmodels>=0.9.0 in /usr/local/lib/python3.6/dist-packages (from plotnine) (0.10.2)\n",
            "Requirement already satisfied: numpy>=1.16.0 in /usr/local/lib/python3.6/dist-packages (from plotnine) (1.18.5)\n",
            "Requirement already satisfied: scipy>=1.2.0 in /usr/local/lib/python3.6/dist-packages (from plotnine) (1.4.1)\n",
            "Requirement already satisfied: pyparsing!=2.0.4,!=2.1.2,!=2.1.6,>=2.0.1 in /usr/local/lib/python3.6/dist-packages (from matplotlib>=3.1.1->plotnine) (2.4.7)\n",
            "Requirement already satisfied: cycler>=0.10 in /usr/local/lib/python3.6/dist-packages (from matplotlib>=3.1.1->plotnine) (0.10.0)\n",
            "Requirement already satisfied: kiwisolver>=1.0.1 in /usr/local/lib/python3.6/dist-packages (from matplotlib>=3.1.1->plotnine) (1.3.1)\n",
            "Requirement already satisfied: python-dateutil>=2.1 in /usr/local/lib/python3.6/dist-packages (from matplotlib>=3.1.1->plotnine) (2.8.1)\n",
            "Requirement already satisfied: palettable in /usr/local/lib/python3.6/dist-packages (from mizani>=0.6.0->plotnine) (3.3.0)\n",
            "Requirement already satisfied: six in /usr/local/lib/python3.6/dist-packages (from patsy>=0.4.1->plotnine) (1.15.0)\n",
            "Requirement already satisfied: pytz>=2017.2 in /usr/local/lib/python3.6/dist-packages (from pandas>=0.25.0->plotnine) (2018.9)\n"
          ],
          "name": "stdout"
        }
      ]
    },
    {
      "cell_type": "code",
      "metadata": {
        "id": "HDfRkVrnN_jr"
      },
      "source": [
        ""
      ],
      "execution_count": 174,
      "outputs": []
    },
    {
      "cell_type": "code",
      "metadata": {
        "colab": {
          "base_uri": "https://localhost:8080/"
        },
        "id": "vLSqVM4wO5Rq",
        "outputId": "c476f585-1608-4b6a-92a6-496e5bc32b4c"
      },
      "source": [
        "import numpy as np\n",
        "import pandas as pd\n",
        "from plydata import *\n",
        "from urllib.request import urlretrieve\n",
        "import zipfile\n",
        "# loading is take from  https://colab.research.google.com/github/google/eng-edu/blob/master/ml/recommendation-systems/recommendation-systems.ipynb?utm_source=ss-recommendation-systems&utm_campaign=colab-external&utm_medium=referral&utm_content=recommendation-systems\n",
        "\n",
        "urlretrieve(\"http://files.grouplens.org/datasets/movielens/ml-100k.zip\", \"movielens.zip\")\n",
        "zip_ref = zipfile.ZipFile('movielens.zip', \"r\")\n",
        "zip_ref.extractall()\n",
        "print(\"Done. Dataset contains:\")\n",
        "print(zip_ref.read('ml-100k/u.info'))\n",
        "\n",
        "# Load each data set (users, movies, and ratings).\n",
        "users_cols = ['user_id', 'age', 'sex', 'occupation', 'zip_code']\n",
        "users = pd.read_csv(\n",
        "    'ml-100k/u.user', sep='|', names=users_cols, encoding='latin-1')\n",
        "\n",
        "ratings_cols = ['user_id', 'movie_id', 'rating', 'unix_timestamp']\n",
        "ratings = pd.read_csv(\n",
        "    'ml-100k/u.data', sep='\\t', names=ratings_cols, encoding='latin-1')\n",
        "\n",
        "# The movies file contains a binary feature for each genre.\n",
        "genre_cols = [\n",
        "    \"genre_unknown\", \"Action\", \"Adventure\", \"Animation\", \"Children\", \"Comedy\",\n",
        "    \"Crime\", \"Documentary\", \"Drama\", \"Fantasy\", \"Film-Noir\", \"Horror\",\n",
        "    \"Musical\", \"Mystery\", \"Romance\", \"Sci-Fi\", \"Thriller\", \"War\", \"Western\"\n",
        "]\n",
        "movies_cols = [\n",
        "    'movie_id', 'title', 'release_date', \"video_release_date\", \"imdb_url\"\n",
        "] + genre_cols\n",
        "movies = pd.read_csv(\n",
        "    'ml-100k/u.item', sep='|', names=movies_cols, encoding='latin-1')\n",
        "\n",
        "\n"
      ],
      "execution_count": 175,
      "outputs": [
        {
          "output_type": "stream",
          "text": [
            "Done. Dataset contains:\n",
            "b'943 users\\n1682 items\\n100000 ratings\\n'\n"
          ],
          "name": "stdout"
        }
      ]
    },
    {
      "cell_type": "code",
      "metadata": {
        "id": "F1l0ihDTO7lI"
      },
      "source": [
        "users = users >> mutate(user_id = \"user_id - 1\")\n",
        "movies = movies >> mutate(movie_id = \"movie_id - 1\")\n",
        "ratings = ratings  >> mutate(user_id = \"user_id - 1\", movie_id = \"movie_id - 1\")\n"
      ],
      "execution_count": 176,
      "outputs": []
    },
    {
      "cell_type": "code",
      "metadata": {
        "colab": {
          "base_uri": "https://localhost:8080/",
          "height": 80
        },
        "id": "GEeZF2pbjhus",
        "outputId": "18b0b36c-7842-45ac-c15c-6189ce93de12"
      },
      "source": [
        "users >> head(1)\n"
      ],
      "execution_count": 177,
      "outputs": [
        {
          "output_type": "execute_result",
          "data": {
            "text/html": [
              "<div>\n",
              "<style scoped>\n",
              "    .dataframe tbody tr th:only-of-type {\n",
              "        vertical-align: middle;\n",
              "    }\n",
              "\n",
              "    .dataframe tbody tr th {\n",
              "        vertical-align: top;\n",
              "    }\n",
              "\n",
              "    .dataframe thead th {\n",
              "        text-align: right;\n",
              "    }\n",
              "</style>\n",
              "<table border=\"1\" class=\"dataframe\">\n",
              "  <thead>\n",
              "    <tr style=\"text-align: right;\">\n",
              "      <th></th>\n",
              "      <th>user_id</th>\n",
              "      <th>age</th>\n",
              "      <th>sex</th>\n",
              "      <th>occupation</th>\n",
              "      <th>zip_code</th>\n",
              "    </tr>\n",
              "  </thead>\n",
              "  <tbody>\n",
              "    <tr>\n",
              "      <th>0</th>\n",
              "      <td>0</td>\n",
              "      <td>24</td>\n",
              "      <td>M</td>\n",
              "      <td>technician</td>\n",
              "      <td>85711</td>\n",
              "    </tr>\n",
              "  </tbody>\n",
              "</table>\n",
              "</div>"
            ],
            "text/plain": [
              "   user_id  age sex  occupation zip_code\n",
              "0        0   24   M  technician    85711"
            ]
          },
          "metadata": {
            "tags": []
          },
          "execution_count": 177
        }
      ]
    },
    {
      "cell_type": "code",
      "metadata": {
        "colab": {
          "base_uri": "https://localhost:8080/",
          "height": 151
        },
        "id": "m0F_HD7Mj1u2",
        "outputId": "18d8c5b5-0947-40f0-9e96-57a138e9e4be"
      },
      "source": [
        "movies >> head(1)\n"
      ],
      "execution_count": 178,
      "outputs": [
        {
          "output_type": "execute_result",
          "data": {
            "text/html": [
              "<div>\n",
              "<style scoped>\n",
              "    .dataframe tbody tr th:only-of-type {\n",
              "        vertical-align: middle;\n",
              "    }\n",
              "\n",
              "    .dataframe tbody tr th {\n",
              "        vertical-align: top;\n",
              "    }\n",
              "\n",
              "    .dataframe thead th {\n",
              "        text-align: right;\n",
              "    }\n",
              "</style>\n",
              "<table border=\"1\" class=\"dataframe\">\n",
              "  <thead>\n",
              "    <tr style=\"text-align: right;\">\n",
              "      <th></th>\n",
              "      <th>movie_id</th>\n",
              "      <th>title</th>\n",
              "      <th>release_date</th>\n",
              "      <th>video_release_date</th>\n",
              "      <th>imdb_url</th>\n",
              "      <th>genre_unknown</th>\n",
              "      <th>Action</th>\n",
              "      <th>Adventure</th>\n",
              "      <th>Animation</th>\n",
              "      <th>Children</th>\n",
              "      <th>Comedy</th>\n",
              "      <th>Crime</th>\n",
              "      <th>Documentary</th>\n",
              "      <th>Drama</th>\n",
              "      <th>Fantasy</th>\n",
              "      <th>Film-Noir</th>\n",
              "      <th>Horror</th>\n",
              "      <th>Musical</th>\n",
              "      <th>Mystery</th>\n",
              "      <th>Romance</th>\n",
              "      <th>Sci-Fi</th>\n",
              "      <th>Thriller</th>\n",
              "      <th>War</th>\n",
              "      <th>Western</th>\n",
              "    </tr>\n",
              "  </thead>\n",
              "  <tbody>\n",
              "    <tr>\n",
              "      <th>0</th>\n",
              "      <td>0</td>\n",
              "      <td>Toy Story (1995)</td>\n",
              "      <td>01-Jan-1995</td>\n",
              "      <td>NaN</td>\n",
              "      <td>http://us.imdb.com/M/title-exact?Toy%20Story%2...</td>\n",
              "      <td>0</td>\n",
              "      <td>0</td>\n",
              "      <td>0</td>\n",
              "      <td>1</td>\n",
              "      <td>1</td>\n",
              "      <td>1</td>\n",
              "      <td>0</td>\n",
              "      <td>0</td>\n",
              "      <td>0</td>\n",
              "      <td>0</td>\n",
              "      <td>0</td>\n",
              "      <td>0</td>\n",
              "      <td>0</td>\n",
              "      <td>0</td>\n",
              "      <td>0</td>\n",
              "      <td>0</td>\n",
              "      <td>0</td>\n",
              "      <td>0</td>\n",
              "      <td>0</td>\n",
              "    </tr>\n",
              "  </tbody>\n",
              "</table>\n",
              "</div>"
            ],
            "text/plain": [
              "   movie_id             title release_date  ...  Thriller War  Western\n",
              "0         0  Toy Story (1995)  01-Jan-1995  ...         0   0        0\n",
              "\n",
              "[1 rows x 24 columns]"
            ]
          },
          "metadata": {
            "tags": []
          },
          "execution_count": 178
        }
      ]
    },
    {
      "cell_type": "code",
      "metadata": {
        "colab": {
          "base_uri": "https://localhost:8080/",
          "height": 80
        },
        "id": "8LTlbFc6j3WQ",
        "outputId": "0362aa05-b4c0-403c-8a74-76615f9ca7ed"
      },
      "source": [
        "ratings >> head(1)"
      ],
      "execution_count": 179,
      "outputs": [
        {
          "output_type": "execute_result",
          "data": {
            "text/html": [
              "<div>\n",
              "<style scoped>\n",
              "    .dataframe tbody tr th:only-of-type {\n",
              "        vertical-align: middle;\n",
              "    }\n",
              "\n",
              "    .dataframe tbody tr th {\n",
              "        vertical-align: top;\n",
              "    }\n",
              "\n",
              "    .dataframe thead th {\n",
              "        text-align: right;\n",
              "    }\n",
              "</style>\n",
              "<table border=\"1\" class=\"dataframe\">\n",
              "  <thead>\n",
              "    <tr style=\"text-align: right;\">\n",
              "      <th></th>\n",
              "      <th>user_id</th>\n",
              "      <th>movie_id</th>\n",
              "      <th>rating</th>\n",
              "      <th>unix_timestamp</th>\n",
              "    </tr>\n",
              "  </thead>\n",
              "  <tbody>\n",
              "    <tr>\n",
              "      <th>0</th>\n",
              "      <td>195</td>\n",
              "      <td>241</td>\n",
              "      <td>3</td>\n",
              "      <td>881250949</td>\n",
              "    </tr>\n",
              "  </tbody>\n",
              "</table>\n",
              "</div>"
            ],
            "text/plain": [
              "   user_id  movie_id  rating  unix_timestamp\n",
              "0      195       241       3       881250949"
            ]
          },
          "metadata": {
            "tags": []
          },
          "execution_count": 179
        }
      ]
    },
    {
      "cell_type": "code",
      "metadata": {
        "colab": {
          "base_uri": "https://localhost:8080/",
          "height": 80
        },
        "id": "hMn8C0TSkE2u",
        "outputId": "daf7aad7-c5b6-4aa5-d935-c5cf223d1295"
      },
      "source": [
        "from sklearn.model_selection import train_test_split\n",
        "from sklearn.metrics import r2_score\n",
        "\n",
        "\n",
        "train_ratings, test_ratings = train_test_split(ratings, test_size=0.1, random_state=42)\n",
        "\n",
        "matrix_dimensions = ratings >> summarise(users_count = \"n_distinct(user_id)\",  movies_count = \"n_distinct(movie_id)\")\n",
        "\n",
        "matrix_dimensions\n",
        "\n"
      ],
      "execution_count": 180,
      "outputs": [
        {
          "output_type": "execute_result",
          "data": {
            "text/html": [
              "<div>\n",
              "<style scoped>\n",
              "    .dataframe tbody tr th:only-of-type {\n",
              "        vertical-align: middle;\n",
              "    }\n",
              "\n",
              "    .dataframe tbody tr th {\n",
              "        vertical-align: top;\n",
              "    }\n",
              "\n",
              "    .dataframe thead th {\n",
              "        text-align: right;\n",
              "    }\n",
              "</style>\n",
              "<table border=\"1\" class=\"dataframe\">\n",
              "  <thead>\n",
              "    <tr style=\"text-align: right;\">\n",
              "      <th></th>\n",
              "      <th>users_count</th>\n",
              "      <th>movies_count</th>\n",
              "    </tr>\n",
              "  </thead>\n",
              "  <tbody>\n",
              "    <tr>\n",
              "      <th>0</th>\n",
              "      <td>943</td>\n",
              "      <td>1682</td>\n",
              "    </tr>\n",
              "  </tbody>\n",
              "</table>\n",
              "</div>"
            ],
            "text/plain": [
              "   users_count  movies_count\n",
              "0          943          1682"
            ]
          },
          "metadata": {
            "tags": []
          },
          "execution_count": 180
        }
      ]
    },
    {
      "cell_type": "code",
      "metadata": {
        "colab": {
          "base_uri": "https://localhost:8080/",
          "height": 80
        },
        "id": "u8v4fAJqcdtC",
        "outputId": "648397f2-eade-4c46-9ea8-1e7e3b6da6b8"
      },
      "source": [
        "train_ratings >> summarise(mean_rating = \"mean(rating)\")"
      ],
      "execution_count": 181,
      "outputs": [
        {
          "output_type": "execute_result",
          "data": {
            "text/html": [
              "<div>\n",
              "<style scoped>\n",
              "    .dataframe tbody tr th:only-of-type {\n",
              "        vertical-align: middle;\n",
              "    }\n",
              "\n",
              "    .dataframe tbody tr th {\n",
              "        vertical-align: top;\n",
              "    }\n",
              "\n",
              "    .dataframe thead th {\n",
              "        text-align: right;\n",
              "    }\n",
              "</style>\n",
              "<table border=\"1\" class=\"dataframe\">\n",
              "  <thead>\n",
              "    <tr style=\"text-align: right;\">\n",
              "      <th></th>\n",
              "      <th>mean_rating</th>\n",
              "    </tr>\n",
              "  </thead>\n",
              "  <tbody>\n",
              "    <tr>\n",
              "      <th>0</th>\n",
              "      <td>3.530844</td>\n",
              "    </tr>\n",
              "  </tbody>\n",
              "</table>\n",
              "</div>"
            ],
            "text/plain": [
              "   mean_rating\n",
              "0     3.530844"
            ]
          },
          "metadata": {
            "tags": []
          },
          "execution_count": 181
        }
      ]
    },
    {
      "cell_type": "code",
      "metadata": {
        "id": "R1UNpIgzpWlu"
      },
      "source": [
        "import torch\n",
        "import torch.nn as nn\n",
        "import torch.autograd as autograd\n",
        "import torch.optim as optim\n",
        "from torch.utils.data import TensorDataset, DataLoader\n",
        "import torch.nn.functional as F\n",
        "\n",
        "\n",
        "class MatrixFactorization(nn.Module):\n",
        "  def __init__(self, k, d, users_count, movies_count):\n",
        "    super().__init__()\n",
        "    self.users_embeddings = nn.Embedding(users_count, k)\n",
        "    self.users_bias = nn.Embedding(users_count, 1)\n",
        "    self.movies_embeddings = nn.Embedding(movies_count, k)\n",
        "    self.movies_bias = nn.Embedding(movies_count, 1)\n",
        "    nn.init.normal_(self.users_embeddings.weight, std=0.01)\n",
        "    nn.init.normal_(self.movies_embeddings.weight, std=0.01)\n",
        "    nn.init.normal_(self.users_bias.weight, std=0.5, mean=1.5)\n",
        "    nn.init.normal_(self.movies_bias.weight, std=0.5, mean = 1.5)\n",
        "    self.deep = nn.Sequential(\n",
        "        nn.Dropout(p=0.1),\n",
        "        nn.Linear(k*2, d * 2, bias=False),\n",
        "        nn.LeakyReLU(),\n",
        "        nn.Dropout(p=0.1),\n",
        "        nn.Linear(d * 2, d, bias=False),\n",
        "        nn.LeakyReLU(),\n",
        "        nn.Dropout(p=0.1),\n",
        "        nn.Linear(d, d, bias=False),\n",
        "        nn.LeakyReLU()\n",
        "    )\n",
        "    self.deep.apply(lambda m: nn.init.xavier_normal_(m.weight, gain = 0.01) if (type(m) == nn.Linear) else False)\n",
        "    self.output_layer = nn.Linear(in_features=d + k + 2, out_features=1)\n",
        "    nn.init.normal_(self.output_layer.weight, std = 0.01, mean=1 / (d + k+3))\n",
        "\n",
        "    \n",
        "\n",
        "\n",
        "  def forward(self, user_ind, movie_ind):\n",
        "    u_tensor = self.users_embeddings(user_ind)\n",
        "    m_tensor = self.movies_embeddings(movie_ind)\n",
        "    u_bias = self.users_bias(user_ind)\n",
        "    m_bias = self.movies_bias(movie_ind)\n",
        "    embeddings = torch.cat((u_tensor, m_tensor), dim=1)\n",
        "    deep_features = self.deep(embeddings)\n",
        "    wide_features = u_tensor * m_tensor\n",
        "    all_features = torch.cat((deep_features, wide_features, u_bias, m_bias), dim=1)\n",
        "    return torch.squeeze(self.output_layer(all_features))\n",
        "\n",
        "device = torch.device(\"cuda:0\" if torch.cuda.is_available() else \"cpu\")\n",
        "loss_function = nn.MSELoss()\n",
        "net = MatrixFactorization(k=100,\n",
        "                          d = 8,\n",
        "                          users_count=matrix_dimensions['users_count'][0],\n",
        "                          movies_count=matrix_dimensions['movies_count'][0]).to(device)\n",
        "\n",
        "\n",
        "\n",
        "adam = optim.Adam(net.parameters(), lr= 0.0005, weight_decay=0.00001)\n",
        "train_loss = []\n",
        "validation_loss = []\n",
        "\n",
        "dataset = TensorDataset(\n",
        "    torch.from_numpy(np.float32(train_ratings['rating'].values)), \n",
        "    torch.from_numpy(train_ratings['user_id'].values), \n",
        "    torch.from_numpy(train_ratings['movie_id'].values))\n",
        "\n",
        "val_rating = torch.from_numpy(np.float32(test_ratings['rating'].values)).to(device)\n",
        "val_user_ind = torch.from_numpy(test_ratings['user_id'].values).to(device)\n",
        "val_movie_ind = torch.from_numpy(test_ratings['movie_id'].values).to(device)\n",
        "loader = DataLoader(dataset, batch_size=1000)\n",
        "epochs = range(100)\n",
        "for epoch in epochs:\n",
        "  for batch_idx, (rating, user_ind, movie_ind) in enumerate(loader):\n",
        "    rating = rating.to(device)\n",
        "    user_ind = user_ind.to(device)\n",
        "    movie_ind = movie_ind.to(device)\n",
        "    net.train()\n",
        "    predicted_rating = net(user_ind, movie_ind)\n",
        "    loss = loss_function(predicted_rating, rating)\n",
        "    loss.backward()\n",
        "    adam.step()\n",
        "    net.zero_grad()\n",
        "  train_loss.append(loss.item())\n",
        "  with torch.no_grad():\n",
        "    net.eval()\n",
        "    val_predicted_rating = net(val_user_ind, val_movie_ind)\n",
        "    val_loss = loss_function(val_predicted_rating, val_rating)\n",
        "    validation_loss.append(val_loss.item())\n",
        "\n",
        "\n",
        "\n"
      ],
      "execution_count": 219,
      "outputs": []
    },
    {
      "cell_type": "code",
      "metadata": {
        "colab": {
          "base_uri": "https://localhost:8080/"
        },
        "id": "sDNs-hk4XMvZ",
        "outputId": "31d883d4-6eea-4a85-ab8d-d0ca55233f39"
      },
      "source": [
        "loss\n"
      ],
      "execution_count": 220,
      "outputs": [
        {
          "output_type": "execute_result",
          "data": {
            "text/plain": [
              "tensor(0.1704, device='cuda:0', grad_fn=<MseLossBackward>)"
            ]
          },
          "metadata": {
            "tags": []
          },
          "execution_count": 220
        }
      ]
    },
    {
      "cell_type": "code",
      "metadata": {
        "colab": {
          "base_uri": "https://localhost:8080/"
        },
        "id": "xb7TV0RoZkEU",
        "outputId": "c40c0348-8ac7-420e-c5cd-910d6c455b0a"
      },
      "source": [
        "val_loss"
      ],
      "execution_count": 221,
      "outputs": [
        {
          "output_type": "execute_result",
          "data": {
            "text/plain": [
              "tensor(0.9288, device='cuda:0')"
            ]
          },
          "metadata": {
            "tags": []
          },
          "execution_count": 221
        }
      ]
    },
    {
      "cell_type": "code",
      "metadata": {
        "colab": {
          "base_uri": "https://localhost:8080/",
          "height": 464
        },
        "id": "0DdesnGPR-NJ",
        "outputId": "3379799a-a874-4744-efbf-cb3eff0cbc7b"
      },
      "source": [
        "from plotnine import *\n",
        "training_stats = pd.DataFrame({'epoch': epochs,\n",
        "                   'train loss': train_loss,\n",
        "                   'validation loss': validation_loss})\n",
        "\n",
        "(ggplot(training_stats)\n",
        "+ geom_line(aes(x=\"epoch\", y=\"train loss\"), color=\"red\")\n",
        "+ geom_line(aes(x=\"epoch\", y=\"validation loss\"), color=\"blue\")\n",
        "+ ylab(\"RMSE\")\n",
        ")"
      ],
      "execution_count": 222,
      "outputs": [
        {
          "output_type": "display_data",
          "data": {
            "image/png": "[encoded data removed]",
            "text/plain": [
              "<Figure size 640x480 with 1 Axes>"
            ]
          },
          "metadata": {
            "tags": []
          }
        },
        {
          "output_type": "execute_result",
          "data": {
            "text/plain": [
              "<ggplot: (-9223363253772912359)>"
            ]
          },
          "metadata": {
            "tags": []
          },
          "execution_count": 222
        }
      ]
    },
    {
      "cell_type": "code",
      "metadata": {
        "id": "4XypuFnUwzvb"
      },
      "source": [
        ""
      ],
      "execution_count": 222,
      "outputs": []
    }
  ]
}